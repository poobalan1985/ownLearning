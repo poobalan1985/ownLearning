{
 "cells": [
  {
   "cell_type": "code",
   "execution_count": 1,
   "metadata": {},
   "outputs": [
    {
     "name": "stdout",
     "output_type": "stream",
     "text": [
      "Hello World\n"
     ]
    }
   ],
   "source": [
    "print(\"Hello World\")"
   ]
  },
  {
   "cell_type": "code",
   "execution_count": 19,
   "metadata": {},
   "outputs": [
    {
     "name": "stdout",
     "output_type": "stream",
     "text": [
      "1800\n",
      "True\n"
     ]
    }
   ],
   "source": [
    "import sys\n",
    "'''Need to check this'''\n",
    "\n",
    "def isLeap(year):\n",
    "    leap = False\n",
    "    if (year % 4 == 0):\n",
    "        leap = True\n",
    "    elif(year % 400 ==0) and (year % 100 != 0) :\n",
    "        leap = True\n",
    "    else:\n",
    "        leap\n",
    "\n",
    "    return leap\n",
    "\n",
    "year = int(input())\n",
    "print (isLeap(year))\n"
   ]
  },
  {
   "cell_type": "code",
   "execution_count": 2,
   "metadata": {},
   "outputs": [
    {
     "name": "stdout",
     "output_type": "stream",
     "text": [
      "lan is \n",
      "good\n"
     ]
    }
   ],
   "source": [
    "name = \"\"\"Poobalan is \n",
    "good\"\"\"\n",
    "print (name[5:])"
   ]
  },
  {
   "cell_type": "code",
   "execution_count": null,
   "metadata": {},
   "outputs": [],
   "source": []
  }
 ],
 "metadata": {
  "kernelspec": {
   "display_name": "Python 3",
   "language": "python",
   "name": "python3"
  },
  "language_info": {
   "codemirror_mode": {
    "name": "ipython",
    "version": 3
   },
   "file_extension": ".py",
   "mimetype": "text/x-python",
   "name": "python",
   "nbconvert_exporter": "python",
   "pygments_lexer": "ipython3",
   "version": "3.6.5"
  }
 },
 "nbformat": 4,
 "nbformat_minor": 2
}
